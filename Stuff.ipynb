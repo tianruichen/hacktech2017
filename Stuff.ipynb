{
 "cells": [
  {
   "cell_type": "code",
   "execution_count": 21,
   "metadata": {
    "collapsed": true
   },
   "outputs": [],
   "source": [
    "%matplotlib inline\n",
    "import matplotlib\n",
    "import numpy as np\n",
    "import matplotlib.cm as cm\n",
    "import matplotlib.mlab as mlab\n",
    "import matplotlib.pyplot as plt\n",
    "from scipy.io import loadmat\n",
    "import scipy\n",
    "from sklearn.cluster import KMeans\n",
    "import sklearn.cluster as cl\n",
    "import itertools\n",
    "from scipy.spatial import ConvexHull\n",
    "import scipy.ndimage.filters\n",
    "import os"
   ]
  },
  {
   "cell_type": "code",
   "execution_count": 22,
   "metadata": {
    "collapsed": false
   },
   "outputs": [],
   "source": [
    "from keras.datasets import cifar10\n",
    "from keras.models import Sequential\n",
    "from keras.layers import Dense\n",
    "from keras.layers import Dropout\n",
    "from keras.layers import Flatten\n",
    "from keras.constraints import maxnorm\n",
    "from keras.optimizers import SGD\n",
    "from keras.layers.convolutional import Convolution2D\n",
    "from keras.layers.convolutional import MaxPooling2D\n",
    "from keras.layers.convolutional import Convolution1D\n",
    "from keras.layers.convolutional import MaxPooling1D\n",
    "from keras.utils import np_utils\n",
    "from keras import backend as K\n",
    "K.set_image_dim_ordering('th')"
   ]
  },
  {
   "cell_type": "code",
   "execution_count": 57,
   "metadata": {
    "collapsed": true
   },
   "outputs": [],
   "source": [
    "def binarize(img):\n",
    "    return (np.sign(img-10)+1)/2"
   ]
  },
  {
   "cell_type": "code",
   "execution_count": 70,
   "metadata": {
    "collapsed": false
   },
   "outputs": [
    {
     "name": "stdout",
     "output_type": "stream",
     "text": [
      "(12914, 1, 46, 72)\n",
      "(12914,)\n"
     ]
    }
   ],
   "source": [
    "xvals = []\n",
    "yvals = []\n",
    "vals = []\n",
    "basedir = 'dataset copy/'\n",
    "for x in range(2**6):\n",
    "    a = '{0:b}'.format(x)\n",
    "    bindir = basedir+(6-len(a))*'0'+a+'/'\n",
    "    for filename in os.listdir(bindir):\n",
    "        if filename.endswith(\".npy\"): \n",
    "            filename = os.path.join(bindir, filename)\n",
    "            if (int(filename[-5])%4==0):\n",
    "                vals.append((binarize(np.load(filename)), x))\n",
    "    #print(a)\n",
    "np.random.shuffle(vals)\n",
    "xvals = np.array([v[0] for v in vals])\n",
    "yvals = np.array([v[1] for  v in vals])\n",
    "xvals = xvals.reshape((xvals.shape[0],1,xvals.shape[1],xvals.shape[2]))\n",
    "print(xvals.shape)\n",
    "print(yvals.shape)\n",
    "validationX = xvals[:1000]\n",
    "validationY = yvals[:1000]\n",
    "trainX = xvals[1000:]\n",
    "trainY = yvals[1000:]"
   ]
  },
  {
   "cell_type": "code",
   "execution_count": 68,
   "metadata": {
    "collapsed": false
   },
   "outputs": [
    {
     "name": "stdout",
     "output_type": "stream",
     "text": [
      "0.0\n"
     ]
    },
    {
     "data": {
      "image/png": "[encoded data removed]",
      "text/plain": [
       "<matplotlib.figure.Figure at 0x7f61e1d1c278>"
      ]
     },
     "metadata": {},
     "output_type": "display_data"
    }
   ],
   "source": [
    "for i in range(0, 9):\n",
    "    plt.subplot(330 + 1 + i)\n",
    "    plt.imshow(xvals[i,0,:,:])\n",
    "print(np.min(xvals[0]))\n",
    "# fix random seed for reproducibility\n",
    "seed = 7\n",
    "np.random.seed(seed)"
   ]
  },
  {
   "cell_type": "code",
   "execution_count": 36,
   "metadata": {
    "collapsed": false
   },
   "outputs": [],
   "source": [
    "def baseline_model(num_classes):\n",
    "    # create model\n",
    "    model = Sequential()\n",
    "    model.add(Convolution2D(32, 5, 5, border_mode='valid', input_shape=(1, 46, 72), activation='relu'))\n",
    "    model.add(MaxPooling2D(pool_size=(2, 2)))\n",
    "    model.add(Dropout(0.2))\n",
    "    model.add(Flatten())\n",
    "    model.add(Dense(128, activation='relu'))\n",
    "    model.add(Dense(num_classes, activation='softmax'))\n",
    "    # Compile model\n",
    "    model.compile(loss='categorical_crossentropy', optimizer='adam', metrics=['accuracy'])\n",
    "    return model"
   ]
  },
  {
   "cell_type": "code",
   "execution_count": 71,
   "metadata": {
    "collapsed": false
   },
   "outputs": [
    {
     "name": "stdout",
     "output_type": "stream",
     "text": [
      "(11914, 1, 46, 72)\n",
      "(11914, 64)\n",
      "Train on 11914 samples, validate on 1000 samples\n",
      "Epoch 1/10\n",
      "54s - loss: 2.3824 - acc: 0.3916 - val_loss: 1.1882 - val_acc: 0.6620\n",
      "Epoch 2/10\n",
      "46s - loss: 0.7043 - acc: 0.8127 - val_loss: 0.5933 - val_acc: 0.8460\n",
      "Epoch 3/10\n",
      "49s - loss: 0.3504 - acc: 0.9138 - val_loss: 0.4201 - val_acc: 0.8910\n",
      "Epoch 4/10\n",
      "51s - loss: 0.2297 - acc: 0.9459 - val_loss: 0.3268 - val_acc: 0.9110\n",
      "Epoch 5/10\n",
      "60s - loss: 0.1527 - acc: 0.9689 - val_loss: 0.2606 - val_acc: 0.9410\n",
      "Epoch 6/10\n",
      "55s - loss: 0.1090 - acc: 0.9796 - val_loss: 0.2424 - val_acc: 0.9350\n",
      "Epoch 7/10\n",
      "53s - loss: 0.0983 - acc: 0.9799 - val_loss: 0.2530 - val_acc: 0.9360\n",
      "Epoch 8/10\n",
      "51s - loss: 0.0908 - acc: 0.9810 - val_loss: 0.2456 - val_acc: 0.9300\n",
      "Epoch 9/10\n",
      "51s - loss: 0.0952 - acc: 0.9796 - val_loss: 0.2436 - val_acc: 0.9330\n",
      "Epoch 10/10\n",
      "48s - loss: 0.0963 - acc: 0.9781 - val_loss: 0.3132 - val_acc: 0.9180\n",
      "Baseline Error: 8.20%\n"
     ]
    }
   ],
   "source": [
    "X_train = trainX.reshape(trainX.shape[0], 1, 46, 72).astype('float32')\n",
    "X_Val = validationX.reshape(validationX.shape[0], 1, 46, 72).astype('float32')\n",
    "# flatten 28*28 images to a 784 vector for each image\n",
    "# one hot encode outputs\n",
    "y_train = np_utils.to_categorical(trainY)\n",
    "y_validation = np_utils.to_categorical(validationY)\n",
    "num_classes = y_train.shape[1]\n",
    "# build the model\n",
    "model = baseline_model(num_classes)\n",
    "print(X_train.shape)\n",
    "print(y_train.shape)\n",
    "# Fit the model\n",
    "try:\n",
    "    model.fit(X_train, y_train, validation_data=(X_Val, y_validation), nb_epoch=10, batch_size=200, verbose=2)\n",
    "except KeyboardInterrupt:\n",
    "    model.save('model.h5')\n",
    "model.save('model.h5')\n",
    "scores = model.evaluate(X_Val, y_validation, verbose=0)\n",
    "print(\"Baseline Error: %.2f%%\" % (100-scores[1]*100))\n",
    "# Final evaluation of the model"
   ]
  },
  {
   "cell_type": "code",
   "execution_count": 376,
   "metadata": {
    "collapsed": false
   },
   "outputs": [
    {
     "data": {
      "text/plain": [
       "<matplotlib.colorbar.Colorbar at 0x7f833c7e7a58>"
      ]
     },
     "execution_count": 376,
     "metadata": {},
     "output_type": "execute_result"
    },
    {
     "name": "stderr",
     "output_type": "stream",
     "text": [
      "/home/riku/anaconda3/lib/python3.4/site-packages/matplotlib/collections.py:590: FutureWarning: elementwise comparison failed; returning scalar instead, but in the future will perform elementwise comparison\n",
      "  if self._edgecolors == str('face'):\n"
     ]
    },
    {
     "data": {
      "image/png": "[encoded data removed]",
      "text/plain": [
       "<matplotlib.figure.Figure at 0x7f833c9d3518>"
      ]
     },
     "metadata": {},
     "output_type": "display_data"
    }
   ],
   "source": [
    "#img = np.load('testclosed.npy')\n",
    "img = np.load('testclosed.npy')\n",
    "plt.imshow(img, cm.get_cmap('jet', 30), interpolation='nearest')\n",
    "plt.colorbar()"
   ]
  },
  {
   "cell_type": "code",
   "execution_count": 377,
   "metadata": {
    "collapsed": false,
    "scrolled": true
   },
   "outputs": [
    {
     "name": "stdout",
     "output_type": "stream",
     "text": [
      "(46, 72)\n"
     ]
    },
    {
     "data": {
      "image/png": "[encoded data removed]",
      "text/plain": [
       "<matplotlib.figure.Figure at 0x7f833c7f24a8>"
      ]
     },
     "metadata": {},
     "output_type": "display_data"
    }
   ],
   "source": [
    "binarized = (np.sign(img-10)+1)/2\n",
    "plt.imshow(binarized, interpolation='nearest')\n",
    "print(binarized.shape)\n",
    "\n",
    "points = []\n",
    "for y in range(binarized.shape[0]):\n",
    "    for x in range(binarized.shape[1]):\n",
    "        if binarized[y,x]==1:\n",
    "            points.append([y,x])\n",
    "points = np.array(points)\n",
    "hull = ConvexHull(points)\n",
    "vertices = hull.vertices\n",
    "#print(hull.vertices)\n",
    "plt.plot(points[hull.vertices,1],points[hull.vertices,0],'o', color='green')\n",
    "distance = lambda x,y: (x[0]-y[0])**2+(x[1]-y[1])**2\n",
    "#print(list(itertools.combinations(hull.vertices, 2)))\n",
    "axis = max(itertools.combinations(hull.vertices, 2), key=lambda x:distance(points[x[0]], points[x[1]]))\n",
    "plt.plot(points[axis,1],points[axis,0],'o', color='violet')\n",
    "\n",
    "ward = cl.AgglomerativeClustering(n_clusters=6, linkage='ward').fit(points)\n",
    "label = ward.labels_\n",
    "\n",
    "#for l in np.unique(label):\n",
    "#    plt.plot(points[label == l, 1], points[label == l, 0], 'o', color=plt.cm.jet(np.float(l) / np.max(label + 1)))\n",
    "#plt.imshow(copy, interpolation='nearest')"
   ]
  },
  {
   "cell_type": "code",
   "execution_count": 381,
   "metadata": {
    "collapsed": false
   },
   "outputs": [],
   "source": [
    "def transform(points, axis, d=0.4, orientation = 0):\n",
    "    pivot = points[axis[1-orientation]]\n",
    "    pivot1 = points[axis[orientation]]\n",
    "    perp = [(pivot1-pivot)[1],-(pivot1-pivot)[0]]\n",
    "    transformed = []\n",
    "    for point in points:\n",
    "        if not np.array_equal(point,pivot):\n",
    "            #transformed.append((np.dot(point-pivot, pivot1-pivot)/np.linalg.norm(pivot1-pivot),\n",
    "            #                 np.dot(perp, point-pivot)/np.linalg.norm(perp)))\n",
    "            transformed.append((np.dot(point-pivot, pivot1-pivot)/np.linalg.norm(pivot1-pivot),\n",
    "                             np.arcsin((np.cross(pivot1-pivot, point-pivot)/np.linalg.norm(pivot1-pivot)/np.linalg.norm(point-pivot)))))\n",
    "    transformed = np.array(transformed)\n",
    "    transformed[:,0] = np.divide(transformed[:,0],np.linalg.norm(pivot1-pivot)/(1+d))-d\n",
    "    transformed = transformed[np.where(transformed[:,0]>0)]\n",
    "    plt.plot(transformed[:,0],transformed[:,1],'o', color='violet')\n",
    "    return transformed\n",
    "def dfs(marked, tree, x, y, points):\n",
    "    dist, point = tree.query([x*xstep, y*ystep])\n",
    "    if not close(np.min(dist)) or marked[(y,x)]:\n",
    "        return \n",
    "    else:\n",
    "        points.append(point)\n",
    "        marked[(y,x)] = True\n",
    "        #print(points)\n",
    "        dfs(marked, tree, x-1,y, points)\n",
    "        dfs(marked, tree, x+1,y, points)\n",
    "        dfs(marked, tree, x,y-1, points)\n",
    "        dfs(marked, tree, x,y+1, points)\n",
    "        dfs(marked, tree, x-1,y-1, points)\n",
    "        dfs(marked, tree, x-1,y+1, points)\n",
    "        dfs(marked, tree, x+1,y-1, points)\n",
    "        dfs(marked, tree, x+1,y+1, points)\n",
    "close = lambda dist: dist*dist<xstep*xstep+ystep*ystep\n",
    "def numFingers(data, xstep=1/20, ystep=1/20):\n",
    "    mytree = scipy.spatial.cKDTree(data)\n",
    "    marked = {}\n",
    "    for y in np.arange(-2/ystep, 2/ystep):\n",
    "        for x in np.arange(-2/xstep, 2/xstep):\n",
    "            marked[(y,x)] = False\n",
    "    close = lambda dist: dist*dist<xstep*xstep+ystep*ystep\n",
    "    sets = []\n",
    "    for y in np.arange(-2/ystep, 2/ystep):\n",
    "        for x in np.arange(-2/xstep, 2/xstep):\n",
    "            dist, index = mytree.query([x*xstep, y*ystep])\n",
    "            if not marked[(y,x)] and close(dist):\n",
    "                testset = []\n",
    "                dfs(marked, mytree, x,y, testset)\n",
    "                arr = []\n",
    "                for p in set(testset):\n",
    "                    arr.append(data[p,:])\n",
    "                arr = np.array(arr)\n",
    "                #if(np.abs(np.correlate(arr[:,0], arr[:,1]))<10):\n",
    "                sets.append(np.array(arr))\n",
    "    colors = ['red', 'blue','green', 'purple']\n",
    "    for x in range(len(sets)):\n",
    "        #print(sets[x])\n",
    "        #print(np.correlate(sets[x][:,0], sets[x][:,1]))\n",
    "        #if (np.abs(np.correlate(sets[x][:,0], sets[x][:,1]))<10):\n",
    "        plt.plot(sets[x][:,0],sets[x][:,1],'o', color=colors[x%len(colors)])\n",
    "        #print(len(sets))\n",
    "    return len(sets)\n",
    "\n",
    "def numFingers1(data):\n",
    "    n, bins, patches = plt.hist(scipy.ndimage.filters.gaussian_filter(data1[:,1],1), 40, normed=1, weights= data1[:,0], facecolor='green', alpha=0.75)\n",
    "    deltas = [n[x+1]-n[x] for x in range(len(n)-1)]\n",
    "    peaks = [bins[x+1] for x in range(len(deltas)-1) if deltas[x]*-deltas[x+1]>0.05]\n",
    "    return peaks\n",
    "\n"
   ]
  },
  {
   "cell_type": "code",
   "execution_count": 382,
   "metadata": {
    "collapsed": false
   },
   "outputs": [
    {
     "name": "stdout",
     "output_type": "stream",
     "text": [
      "9\n"
     ]
    },
    {
     "data": {
      "image/png": "[encoded data removed]",
      "text/plain": [
       "<matplotlib.figure.Figure at 0x7f833cbc9a90>"
      ]
     },
     "metadata": {},
     "output_type": "display_data"
    }
   ],
   "source": [
    "data1 = transform(points, axis, orientation=0)\n",
    "#data2 = transform(points, axis, orientation=1)\n",
    "#print(numFingers(data1))\n",
    "print(len(numFingers1(data2)))"
   ]
  },
  {
   "cell_type": "code",
   "execution_count": 390,
   "metadata": {
    "collapsed": false
   },
   "outputs": [
    {
     "name": "stdout",
     "output_type": "stream",
     "text": [
      "[0.062218856714233495, -0.090008306551025291, 0.045386702240817471, 0.22739803494767297, 0.29467200298915219, -0.096921512852609304, 0.38847847426713145, -0.05298303169472951, 0.071345382029366688, -0.25398518803636438, -0.30169450899510564, -0.36828535388425093, 0.45750123757857442, 2.6896744501327023, -0.35358454364611136, -0.8272894623979512, -1.6994737783670426, -0.2714731407360168, 0.0, 0.0, 0.26305706349930991, -0.26305706349930991, 1.612006689942685, 1.9479393313325783, -1.9043287492878191, 0.08924320862042201, -0.055141700856099263, 0.43137860823346785, -0.63934862072886456, -0.50783375144226761, -0.78641137296251262, 0.25800195217206545, 0.061590383414089733, 0.834530567812651, -0.20357069939439598, -0.45435887107784978, -0.57335892421377854, -0.010082897728393631, -0.0070771558581407545]\n",
      "[-0.30272105037902025, -0.067044110119452771, -0.0081248750545608317, 0.10971359507522294, 0.19809244767256073]\n",
      "5\n"
     ]
    },
    {
     "data": {
      "image/png": "[encoded data removed]",
      "text/plain": [
       "<matplotlib.figure.Figure at 0x7f833c348a90>"
      ]
     },
     "metadata": {},
     "output_type": "display_data"
    }
   ],
   "source": [
    "n, bins, patches = plt.hist(scipy.ndimage.filters.gaussian_filter(data1[:,1],1), 40, normed=1, weights= data1[:,0], facecolor='green', alpha=0.75)\n",
    "deltas = [n[x+1]-n[x] for x in range(len(n)-1)]\n",
    "peaks = [bins[x+1] for x in range(len(deltas)-1) if deltas[x]*-deltas[x+1]>0.2]\n",
    "print(deltas)\n",
    "print(peaks)\n",
    "print(len(peaks))\n",
    "#print(peaks)\n",
    "#plt.plot(peaks, [1,2,1,2])"
   ]
  },
  {
   "cell_type": "code",
   "execution_count": 6,
   "metadata": {
    "collapsed": false
   },
   "outputs": [],
   "source": [
    "import ftd2xx as FT\n",
    "import sys\n",
    "import numpy as np\n",
    "crcTable = [\n",
    "  0x0000,0x1021,0x2042,0x3063,0x4084,0x50A5,0x60C6,0x70E7,\n",
    "  0x8108,0x9129,0xA14A,0xB16B,0xC18C,0xD1AD,0xE1CE,0xF1EF,\n",
    "  0x1231,0x0210,0x3273,0x2252,0x52B5,0x4294,0x72F7,0x62D6,\n",
    "  0x9339,0x8318,0xB37B,0xA35A,0xD3BD,0xC39C,0xF3FF,0xE3DE,\n",
    "  0x2462,0x3443,0x0420,0x1401,0x64E6,0x74C7,0x44A4,0x5485,\n",
    "  0xA56A,0xB54B,0x8528,0x9509,0xE5EE,0xF5CF,0xC5AC,0xD58D,\n",
    "  0x3653,0x2672,0x1611,0x0630,0x76D7,0x66F6,0x5695,0x46B4,\n",
    "  0xB75B,0xA77A,0x9719,0x8738,0xF7DF,0xE7FE,0xD79D,0xC7BC,\n",
    "  0x48C4,0x58E5,0x6886,0x78A7,0x0840,0x1861,0x2802,0x3823,\n",
    "  0xC9CC,0xD9ED,0xE98E,0xF9AF,0x8948,0x9969,0xA90A,0xB92B,\n",
    "  0x5AF5,0x4AD4,0x7AB7,0x6A96,0x1A71,0x0A50,0x3A33,0x2A12,\n",
    "  0xDBFD,0xCBDC,0xFBBF,0xEB9E,0x9B79,0x8B58,0xBB3B,0xAB1A,\n",
    "  0x6CA6,0x7C87,0x4CE4,0x5CC5,0x2C22,0x3C03,0x0C60,0x1C41,\n",
    "  0xEDAE,0xFD8F,0xCDEC,0xDDCD,0xAD2A,0xBD0B,0x8D68,0x9D49,\n",
    "  0x7E97,0x6EB6,0x5ED5,0x4EF4,0x3E13,0x2E32,0x1E51,0x0E70,\n",
    "  0xFF9F,0xEFBE,0xDFDD,0xCFFC,0xBF1B,0xAF3A,0x9F59,0x8F78,\n",
    "  0x9188,0x81A9,0xB1CA,0xA1EB,0xD10C,0xC12D,0xF14E,0xE16F,\n",
    "  0x1080,0x00A1,0x30C2,0x20E3,0x5004,0x4025,0x7046,0x6067,\n",
    "  0x83B9,0x9398,0xA3FB,0xB3DA,0xC33D,0xD31C,0xE37F,0xF35E,\n",
    "  0x02B1,0x1290,0x22F3,0x32D2,0x4235,0x5214,0x6277,0x7256,\n",
    "  0xB5EA,0xA5CB,0x95A8,0x8589,0xF56E,0xE54F,0xD52C,0xC50D,\n",
    "  0x34E2,0x24C3,0x14A0,0x0481,0x7466,0x6447,0x5424,0x4405,\n",
    "  0xA7DB,0xB7FA,0x8799,0x97B8,0xE75F,0xF77E,0xC71D,0xD73C,\n",
    "  0x26D3,0x36F2,0x0691,0x16B0,0x6657,0x7676,0x4615,0x5634,\n",
    "  0xD94C,0xC96D,0xF90E,0xE92F,0x99C8,0x89E9,0xB98A,0xA9AB,\n",
    "  0x5844,0x4865,0x7806,0x6827,0x18C0,0x08E1,0x3882,0x28A3,\n",
    "  0xCB7D,0xDB5C,0xEB3F,0xFB1E,0x8BF9,0x9BD8,0xABBB,0xBB9A,\n",
    "  0x4A75,0x5A54,0x6A37,0x7A16,0x0AF1,0x1AD0,0x2AB3,0x3A92,\n",
    "  0xFD2E,0xED0F,0xDD6C,0xCD4D,0xBDAA,0xAD8B,0x9DE8,0x8DC9,\n",
    "  0x7C26,0x6C07,0x5C64,0x4C45,0x3CA2,0x2C83,0x1CE0,0x0CC1,\n",
    "  0xEF1F,0xFF3E,0xCF5D,0xDF7C,0xAF9B,0xBFBA,0x8FD9,0x9FF8,\n",
    "  0x6E17,0x7E36,0x4E55,0x5E74,0x2E93,0x3EB2,0x0ED1,0x1EF0,\n",
    "]\n",
    "\n",
    "def crc16(packet):\n",
    "    rem = 0\n",
    "    for p in packet:\n",
    "        #print(\"%04X %02X %04X\" % (rem,p,crcTable[(rem>>8) ^ p]))\n",
    "        rem = (rem << 8) ^ crcTable[(rem>>8) ^ p]\n",
    "        rem = rem & 0xFFFF\n",
    "    return rem\n",
    "\n",
    "class SensorInterface(object):\n",
    "    def __init__(self):\n",
    "        self.sensor = None\n",
    "        self.buffer = []\n",
    "\n",
    "    def connect(self, id=None):\n",
    "        \"\"\"Connects to a sensor\n",
    "\n",
    "        Use the optional id argument to specify a non-default sensor\"\"\"\n",
    "        if id == None:\n",
    "            id = 0;\n",
    "        try:\n",
    "            self.sensor = FT.open(id)\n",
    "        except FT.DeviceError:\n",
    "            print(\"Error: Device not found\")\n",
    "            raise\n",
    "\n",
    "        self.sensor.setUSBParameters(8192)\n",
    "        self.sensor.setLatencyTimer(2)\n",
    "    def close(self):\n",
    "        \"Closes the connection to the sensor\"\n",
    "        if self.sensor:\n",
    "            self.sensor.close()\n",
    "        self.sensor = None\n",
    "\n",
    "    def getAllImages(self):\n",
    "        \"Returns a list of all images found in the FTDI buffer\"\n",
    "        self.readBuffer()\n",
    "        images = []\n",
    "        while True:\n",
    "            p = self.getPacket()\n",
    "            if not p:\n",
    "                return images\n",
    "            if p[0] == 2: # image packet\n",
    "                rows = p[14]\n",
    "                cols = p[15]\n",
    "                imgBuf = p[16:]\n",
    "                pixels = []\n",
    "                for i in range(rows):\n",
    "                    pixels.append(imgBuf[(i*cols):((i+1)*cols)])\n",
    "                img = { 'timeStamp' : p[5] + (p[6] << 16),\n",
    "                        'sequence' : p[10],\n",
    "                        'rows' : rows,\n",
    "                        'cols' : cols,\n",
    "                        'image' : pixels }\n",
    "                images.append(img)\n",
    "\n",
    "    def getPacket(self):\n",
    "        while True:\n",
    "            if len(self.buffer) == 0:\n",
    "                return None\n",
    "\n",
    "            # find BOM: 7 FFs followed by A5\n",
    "            ffCount = 0\n",
    "            while len(self.buffer) > 0:\n",
    "                b = self.buffer.pop(0)\n",
    "                if b == 0xFF:\n",
    "                    ffCount += 1\n",
    "                    if ffCount == 15:\n",
    "                        print(\"Warning: Sensor buffer overflow\")\n",
    "                elif ffCount >= 7 and b == 0xA5:\n",
    "                    break\n",
    "                else:\n",
    "                    ffCount == 0\n",
    "\n",
    "            # Read length word\n",
    "            if len(self.buffer) < 2:\n",
    "                print(\"Discarded packet because buffer is empty\")\n",
    "                continue\n",
    "\n",
    "            length = self.buffer[1] + (self.buffer[0] << 8)\n",
    "            if length > len(self.buffer):\n",
    "                # Allow this packet to be processed next time\n",
    "                self.buffer.insert(0, 0xA5)\n",
    "                for i in range(7):\n",
    "                    self.buffer.insert(0, 0xFF)\n",
    "                return None\n",
    "\n",
    "            if length < 32:\n",
    "                print(\"Discarded packet shorter than minimum (%d bytes vs 32 bytes)\" % (length))\n",
    "                continue # packet is shorter than minimum size\n",
    "\n",
    "            packet = self.buffer[0:length]\n",
    "\n",
    "            calcCrc = crc16(packet[4:])\n",
    "            txCrc = packet[3] + (packet[2] << 8)\n",
    "            if calcCrc != txCrc:\n",
    "                print(\"Warning: Transmitted CRC %04X != %04X Calculated\" % (txCrc, calcCrc))\n",
    "                continue\n",
    "            packet = self.removeEscapedFFs(packet)\n",
    "\n",
    "            # convert packet to words from bytes\n",
    "            lo = packet[5::2]\n",
    "            hi = packet[4::2]\n",
    "            packet = [lo[i] + (hi[i] << 8) for i in range(len(lo))]\n",
    "\n",
    "            # accept the packet, remove it from buffer\n",
    "            self.buffer[0:length] = []\n",
    "            # print(\"Accepting packet, %d bytes long\" % length)\n",
    "            return packet\n",
    "\n",
    "    def removeEscapedFFs(self, packet):\n",
    "        # packets have 00 bytes inserted after each 4 FFs because\n",
    "        # strings of FFs are used by hardware for signaling purposes\n",
    "        i = 4\n",
    "        while i < len(packet)-4:\n",
    "            if packet[i] != 0xFF or packet[i+1] != 0xFF or packet[i+2] != 0xFF or packet[i+3] != 0xFF:\n",
    "                i += 1\n",
    "                continue\n",
    "            print(packet[i+4])\n",
    "            if packet[i+4] != 0:\n",
    "                print(\"Warning, saw incorrect escape in FF sequence: %d\" % packet[i+4])\n",
    "            del packet[i+4]\n",
    "            i += 1\n",
    "        return packet\n",
    "\n",
    "    def readBuffer(self):\n",
    "        if not self.sensor:\n",
    "            return\n",
    "        # flush out buffer so we don't get old images\n",
    "        rx = 65536\n",
    "        while rx == 65536:\n",
    "            (rx, tx, stat) = self.sensor.getStatus()\n",
    "            buf = self.sensor.read(rx)\n",
    "            # print(\"Read %d bytes\" % len(buf))\n",
    "            if rx == 65536:\n",
    "                print(\"Discarding buffer...\")\n",
    "\n",
    "        if sys.version_info[0] < 3:\n",
    "            buf = [ord(x) for x in buf]\n",
    "        self.buffer.extend(buf)"
   ]
  },
  {
   "cell_type": "code",
   "execution_count": 7,
   "metadata": {
    "collapsed": false
   },
   "outputs": [
    {
     "name": "stdout",
     "output_type": "stream",
     "text": [
      "Error: Device not found\n",
      "Error connecting to sensor\n"
     ]
    },
    {
     "ename": "DeviceError",
     "evalue": "DEVICE_NOT_OPENED",
     "output_type": "error",
     "traceback": [
      "\u001b[1;31m---------------------------------------------------------------------------\u001b[0m",
      "\u001b[1;31mDeviceError\u001b[0m                               Traceback (most recent call last)",
      "\u001b[1;32m<ipython-input-7-40805bf6665b>\u001b[0m in \u001b[0;36m<module>\u001b[1;34m()\u001b[0m\n\u001b[0;32m      1\u001b[0m \u001b[0msensor\u001b[0m \u001b[1;33m=\u001b[0m \u001b[0mSensorInterface\u001b[0m\u001b[1;33m(\u001b[0m\u001b[1;33m)\u001b[0m\u001b[1;33m\u001b[0m\u001b[0m\n\u001b[0;32m      2\u001b[0m \u001b[1;32mtry\u001b[0m\u001b[1;33m:\u001b[0m\u001b[1;33m\u001b[0m\u001b[0m\n\u001b[1;32m----> 3\u001b[1;33m     \u001b[0msensor\u001b[0m\u001b[1;33m.\u001b[0m\u001b[0mconnect\u001b[0m\u001b[1;33m(\u001b[0m\u001b[1;33m)\u001b[0m\u001b[1;33m\u001b[0m\u001b[0m\n\u001b[0m\u001b[0;32m      4\u001b[0m \u001b[1;32mexcept\u001b[0m\u001b[1;33m:\u001b[0m\u001b[1;33m\u001b[0m\u001b[0m\n\u001b[0;32m      5\u001b[0m     \u001b[0mprint\u001b[0m\u001b[1;33m(\u001b[0m\u001b[1;34m\"Error connecting to sensor\"\u001b[0m\u001b[1;33m)\u001b[0m\u001b[1;33m\u001b[0m\u001b[0m\n",
      "\u001b[1;32m<ipython-input-6-348ef54b76ec>\u001b[0m in \u001b[0;36mconnect\u001b[1;34m(self, id)\u001b[0m\n\u001b[0;32m     57\u001b[0m             \u001b[0mid\u001b[0m \u001b[1;33m=\u001b[0m \u001b[1;36m0\u001b[0m\u001b[1;33m;\u001b[0m\u001b[1;33m\u001b[0m\u001b[0m\n\u001b[0;32m     58\u001b[0m         \u001b[1;32mtry\u001b[0m\u001b[1;33m:\u001b[0m\u001b[1;33m\u001b[0m\u001b[0m\n\u001b[1;32m---> 59\u001b[1;33m             \u001b[0mself\u001b[0m\u001b[1;33m.\u001b[0m\u001b[0msensor\u001b[0m \u001b[1;33m=\u001b[0m \u001b[0mFT\u001b[0m\u001b[1;33m.\u001b[0m\u001b[0mopen\u001b[0m\u001b[1;33m(\u001b[0m\u001b[0mid\u001b[0m\u001b[1;33m)\u001b[0m\u001b[1;33m\u001b[0m\u001b[0m\n\u001b[0m\u001b[0;32m     60\u001b[0m         \u001b[1;32mexcept\u001b[0m \u001b[0mFT\u001b[0m\u001b[1;33m.\u001b[0m\u001b[0mDeviceError\u001b[0m\u001b[1;33m:\u001b[0m\u001b[1;33m\u001b[0m\u001b[0m\n\u001b[0;32m     61\u001b[0m             \u001b[0mprint\u001b[0m\u001b[1;33m(\u001b[0m\u001b[1;34m\"Error: Device not found\"\u001b[0m\u001b[1;33m)\u001b[0m\u001b[1;33m\u001b[0m\u001b[0m\n",
      "\u001b[1;32m/home/riku/Programming/Hacktech/ftd2xx/ftd2xx.py\u001b[0m in \u001b[0;36mopen\u001b[1;34m(dev)\u001b[0m\n\u001b[0;32m     93\u001b[0m     it\"\"\"\n\u001b[0;32m     94\u001b[0m     \u001b[0mh\u001b[0m \u001b[1;33m=\u001b[0m \u001b[0m_ft\u001b[0m\u001b[1;33m.\u001b[0m\u001b[0mFT_HANDLE\u001b[0m\u001b[1;33m(\u001b[0m\u001b[1;33m)\u001b[0m\u001b[1;33m\u001b[0m\u001b[0m\n\u001b[1;32m---> 95\u001b[1;33m     \u001b[0mcall_ft\u001b[0m\u001b[1;33m(\u001b[0m\u001b[0m_ft\u001b[0m\u001b[1;33m.\u001b[0m\u001b[0mFT_Open\u001b[0m\u001b[1;33m,\u001b[0m \u001b[0mdev\u001b[0m\u001b[1;33m,\u001b[0m \u001b[0mc\u001b[0m\u001b[1;33m.\u001b[0m\u001b[0mbyref\u001b[0m\u001b[1;33m(\u001b[0m\u001b[0mh\u001b[0m\u001b[1;33m)\u001b[0m\u001b[1;33m)\u001b[0m\u001b[1;33m\u001b[0m\u001b[0m\n\u001b[0m\u001b[0;32m     96\u001b[0m     \u001b[1;32mreturn\u001b[0m \u001b[0mFTD2XX\u001b[0m\u001b[1;33m(\u001b[0m\u001b[0mh\u001b[0m\u001b[1;33m)\u001b[0m\u001b[1;33m\u001b[0m\u001b[0m\n\u001b[0;32m     97\u001b[0m \u001b[1;33m\u001b[0m\u001b[0m\n",
      "\u001b[1;32m/home/riku/Programming/Hacktech/ftd2xx/ftd2xx.py\u001b[0m in \u001b[0;36mcall_ft\u001b[1;34m(function, *args)\u001b[0m\n\u001b[0;32m     39\u001b[0m     \u001b[0mstatus\u001b[0m \u001b[1;33m=\u001b[0m \u001b[0mfunction\u001b[0m\u001b[1;33m(\u001b[0m\u001b[1;33m*\u001b[0m\u001b[0margs\u001b[0m\u001b[1;33m)\u001b[0m\u001b[1;33m\u001b[0m\u001b[0m\n\u001b[0;32m     40\u001b[0m     \u001b[1;32mif\u001b[0m \u001b[0mstatus\u001b[0m \u001b[1;33m!=\u001b[0m \u001b[0m_ft\u001b[0m\u001b[1;33m.\u001b[0m\u001b[0mFT_OK\u001b[0m\u001b[1;33m:\u001b[0m\u001b[1;33m\u001b[0m\u001b[0m\n\u001b[1;32m---> 41\u001b[1;33m         \u001b[1;32mraise\u001b[0m \u001b[0mDeviceError\u001b[0m\u001b[1;33m(\u001b[0m\u001b[0mstatus\u001b[0m\u001b[1;33m)\u001b[0m\u001b[1;33m\u001b[0m\u001b[0m\n\u001b[0m\u001b[0;32m     42\u001b[0m \u001b[1;33m\u001b[0m\u001b[0m\n\u001b[0;32m     43\u001b[0m \u001b[1;32mdef\u001b[0m \u001b[0mlistDevices\u001b[0m\u001b[1;33m(\u001b[0m\u001b[0mflags\u001b[0m\u001b[1;33m=\u001b[0m\u001b[1;36m0\u001b[0m\u001b[1;33m)\u001b[0m\u001b[1;33m:\u001b[0m\u001b[1;33m\u001b[0m\u001b[0m\n",
      "\u001b[1;31mDeviceError\u001b[0m: DEVICE_NOT_OPENED"
     ]
    }
   ],
   "source": [
    "sensor = SensorInterface()\n",
    "try:\n",
    "    sensor.connect()\n",
    "except:\n",
    "    print(\"Error connecting to sensor\")\n",
    "    raise\n",
    "try:\n",
    "    while True:\n",
    "        images = sensor.getAllImages()\n",
    "        if len(images)>0:\n",
    "            img = images[-1]\n",
    "            image = img['image']\n",
    "            rows = img['rows']\n",
    "            cols = img['cols']\n",
    "            for y in range(rows):\n",
    "                s = ''\n",
    "                for x in range(cols):\n",
    "                    if image[y][x]>1:\n",
    "                        s+='1'\n",
    "                    else:\n",
    "                        s+='0'\n",
    "                print(s)\n",
    "except KeyboardInterrupt:\n",
    "    pass"
   ]
  },
  {
   "cell_type": "code",
   "execution_count": null,
   "metadata": {
    "collapsed": true
   },
   "outputs": [],
   "source": []
  }
 ],
 "metadata": {
  "kernelspec": {
   "display_name": "Python 3",
   "language": "python",
   "name": "python3"
  },
  "language_info": {
   "codemirror_mode": {
    "name": "ipython",
    "version": 3
   },
   "file_extension": ".py",
   "mimetype": "text/x-python",
   "name": "python",
   "nbconvert_exporter": "python",
   "pygments_lexer": "ipython3",
   "version": "3.4.5"
  }
 },
 "nbformat": 4,
 "nbformat_minor": 0
}
