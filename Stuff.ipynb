{
 "cells": [
  {
   "cell_type": "code",
   "execution_count": 123,
   "metadata": {
    "collapsed": true
   },
   "outputs": [],
   "source": [
    "%matplotlib inline\n",
    "import matplotlib\n",
    "import numpy as np\n",
    "import matplotlib.cm as cm\n",
    "import matplotlib.mlab as mlab\n",
    "import matplotlib.pyplot as plt\n",
    "from scipy.io import loadmat\n",
    "from sklearn.cluster import KMeans\n",
    "import sklearn.cluster as cl\n",
    "import itertools\n",
    "from scipy.spatial import ConvexHull"
   ]
  },
  {
   "cell_type": "code",
   "execution_count": 119,
   "metadata": {
    "collapsed": false
   },
   "outputs": [
    {
     "data": {
      "text/plain": [
       "<matplotlib.colorbar.Colorbar at 0x7f1966dd4cc0>"
      ]
     },
     "execution_count": 119,
     "metadata": {},
     "output_type": "execute_result"
    },
    {
     "name": "stderr",
     "output_type": "stream",
     "text": [
      "/home/riku/anaconda3/lib/python3.4/site-packages/matplotlib/collections.py:590: FutureWarning: elementwise comparison failed; returning scalar instead, but in the future will perform elementwise comparison\n",
      "  if self._edgecolors == str('face'):\n"
     ]
    },
    {
     "data": {
      "image/png": "[encoded data removed]",
      "text/plain": [
       "<matplotlib.figure.Figure at 0x7f1966d5ceb8>"
      ]
     },
     "metadata": {},
     "output_type": "display_data"
    }
   ],
   "source": [
    "#img = np.load('testclosed.npy')\n",
    "img = np.load('testclosed.npy')\n",
    "plt.imshow(img, cm.get_cmap('jet', 30), interpolation='nearest')\n",
    "plt.colorbar()"
   ]
  },
  {
   "cell_type": "code",
   "execution_count": 132,
   "metadata": {
    "collapsed": false,
    "scrolled": true
   },
   "outputs": [
    {
     "name": "stdout",
     "output_type": "stream",
     "text": [
      "(46, 72)\n",
      "[ 10   0 193 226 453 475 559 588 591 533 508 386 339 258 128  79  25]\n",
      "[(10, 0), (10, 193), (10, 226), (10, 453), (10, 475), (10, 559), (10, 588), (10, 591), (10, 533), (10, 508), (10, 386), (10, 339), (10, 258), (10, 128), (10, 79), (10, 25), (0, 193), (0, 226), (0, 453), (0, 475), (0, 559), (0, 588), (0, 591), (0, 533), (0, 508), (0, 386), (0, 339), (0, 258), (0, 128), (0, 79), (0, 25), (193, 226), (193, 453), (193, 475), (193, 559), (193, 588), (193, 591), (193, 533), (193, 508), (193, 386), (193, 339), (193, 258), (193, 128), (193, 79), (193, 25), (226, 453), (226, 475), (226, 559), (226, 588), (226, 591), (226, 533), (226, 508), (226, 386), (226, 339), (226, 258), (226, 128), (226, 79), (226, 25), (453, 475), (453, 559), (453, 588), (453, 591), (453, 533), (453, 508), (453, 386), (453, 339), (453, 258), (453, 128), (453, 79), (453, 25), (475, 559), (475, 588), (475, 591), (475, 533), (475, 508), (475, 386), (475, 339), (475, 258), (475, 128), (475, 79), (475, 25), (559, 588), (559, 591), (559, 533), (559, 508), (559, 386), (559, 339), (559, 258), (559, 128), (559, 79), (559, 25), (588, 591), (588, 533), (588, 508), (588, 386), (588, 339), (588, 258), (588, 128), (588, 79), (588, 25), (591, 533), (591, 508), (591, 386), (591, 339), (591, 258), (591, 128), (591, 79), (591, 25), (533, 508), (533, 386), (533, 339), (533, 258), (533, 128), (533, 79), (533, 25), (508, 386), (508, 339), (508, 258), (508, 128), (508, 79), (508, 25), (386, 339), (386, 258), (386, 128), (386, 79), (386, 25), (339, 258), (339, 128), (339, 79), (339, 25), (258, 128), (258, 79), (258, 25), (128, 79), (128, 25), (79, 25)]\n"
     ]
    },
    {
     "data": {
      "image/png": "[encoded data removed]",
      "text/plain": [
       "<matplotlib.figure.Figure at 0x7f1966b67b00>"
      ]
     },
     "metadata": {},
     "output_type": "display_data"
    }
   ],
   "source": [
    "binarized = (np.sign(img-10)+1)/2\n",
    "plt.imshow(binarized, interpolation='nearest')\n",
    "print(binarized.shape)\n",
    "points = []\n",
    "for y in range(binarized.shape[0]):\n",
    "    for x in range(binarized.shape[1]):\n",
    "        if binarized[y,x]==1:\n",
    "            points.append([y,x])\n",
    "points = np.array(points)\n",
    "hull = ConvexHull(points)\n",
    "vertices = hull.vertices\n",
    "print(hull.vertices)\n",
    "plt.plot(points[hull.vertices,1],points[hull.vertices,0],'o', color='green')\n",
    "distance = lambda x,y: (x[0]-y[0])**2+(x[1]-y[1])**2\n",
    "print(list(itertools.combinations(hull.vertices, 2)))\n",
    "axis = max(itertools.combinations(hull.vertices, 2), key=lambda x:distance(points[x[0]], points[x[1]]))\n",
    "plt.plot(points[axis,1],points[axis,0],'o', color='violet')\n",
    "ward = cl.AgglomerativeClustering(n_clusters=6, linkage='ward').fit(points)\n",
    "label = ward.labels_\n",
    "\n",
    "#for l in np.unique(label):\n",
    "#    plt.plot(points[label == l, 1], points[label == l, 0], 'o', color=plt.cm.jet(np.float(l) / np.max(label + 1)))\n",
    "#plt.imshow(copy, interpolation='nearest')"
   ]
  },
  {
   "cell_type": "code",
   "execution_count": null,
   "metadata": {
    "collapsed": true
   },
   "outputs": [],
   "source": [
    "t = 2\n",
    "def dfs(img, x, y, label):\n",
    "    if (img[x,y]!=1):\n",
    "        return\n",
    "    else:\n",
    "        img[x,y] = label\n",
    "        dfs(img, x-1,y, label)\n",
    "        dfs(img, x+1,y, label)\n",
    "        dfs(img, x,y-1, label)\n",
    "        dfs(img, x,y+1, label)\n",
    "        dfs(img, x-1,y-1, label)\n",
    "        dfs(img, x-1,y+1, label)\n",
    "        dfs(img, x+1,y-1, label)\n",
    "        dfs(img, x+1,y+1, label)\n",
    "copy = np.copy(binarized)\n",
    "for x in range(binarized.shape[0]):\n",
    "    for y in range(binarized.shape[1]):\n",
    "        if copy[x,y]==1:\n",
    "            dfs(copy, x, y, t)\n",
    "            t+=1\n",
    "print(t-2)"
   ]
  },
  {
   "cell_type": "code",
   "execution_count": 6,
   "metadata": {
    "collapsed": false
   },
   "outputs": [],
   "source": [
    "import ftd2xx as FT\n",
    "import sys\n",
    "import numpy as np\n",
    "crcTable = [\n",
    "  0x0000,0x1021,0x2042,0x3063,0x4084,0x50A5,0x60C6,0x70E7,\n",
    "  0x8108,0x9129,0xA14A,0xB16B,0xC18C,0xD1AD,0xE1CE,0xF1EF,\n",
    "  0x1231,0x0210,0x3273,0x2252,0x52B5,0x4294,0x72F7,0x62D6,\n",
    "  0x9339,0x8318,0xB37B,0xA35A,0xD3BD,0xC39C,0xF3FF,0xE3DE,\n",
    "  0x2462,0x3443,0x0420,0x1401,0x64E6,0x74C7,0x44A4,0x5485,\n",
    "  0xA56A,0xB54B,0x8528,0x9509,0xE5EE,0xF5CF,0xC5AC,0xD58D,\n",
    "  0x3653,0x2672,0x1611,0x0630,0x76D7,0x66F6,0x5695,0x46B4,\n",
    "  0xB75B,0xA77A,0x9719,0x8738,0xF7DF,0xE7FE,0xD79D,0xC7BC,\n",
    "  0x48C4,0x58E5,0x6886,0x78A7,0x0840,0x1861,0x2802,0x3823,\n",
    "  0xC9CC,0xD9ED,0xE98E,0xF9AF,0x8948,0x9969,0xA90A,0xB92B,\n",
    "  0x5AF5,0x4AD4,0x7AB7,0x6A96,0x1A71,0x0A50,0x3A33,0x2A12,\n",
    "  0xDBFD,0xCBDC,0xFBBF,0xEB9E,0x9B79,0x8B58,0xBB3B,0xAB1A,\n",
    "  0x6CA6,0x7C87,0x4CE4,0x5CC5,0x2C22,0x3C03,0x0C60,0x1C41,\n",
    "  0xEDAE,0xFD8F,0xCDEC,0xDDCD,0xAD2A,0xBD0B,0x8D68,0x9D49,\n",
    "  0x7E97,0x6EB6,0x5ED5,0x4EF4,0x3E13,0x2E32,0x1E51,0x0E70,\n",
    "  0xFF9F,0xEFBE,0xDFDD,0xCFFC,0xBF1B,0xAF3A,0x9F59,0x8F78,\n",
    "  0x9188,0x81A9,0xB1CA,0xA1EB,0xD10C,0xC12D,0xF14E,0xE16F,\n",
    "  0x1080,0x00A1,0x30C2,0x20E3,0x5004,0x4025,0x7046,0x6067,\n",
    "  0x83B9,0x9398,0xA3FB,0xB3DA,0xC33D,0xD31C,0xE37F,0xF35E,\n",
    "  0x02B1,0x1290,0x22F3,0x32D2,0x4235,0x5214,0x6277,0x7256,\n",
    "  0xB5EA,0xA5CB,0x95A8,0x8589,0xF56E,0xE54F,0xD52C,0xC50D,\n",
    "  0x34E2,0x24C3,0x14A0,0x0481,0x7466,0x6447,0x5424,0x4405,\n",
    "  0xA7DB,0xB7FA,0x8799,0x97B8,0xE75F,0xF77E,0xC71D,0xD73C,\n",
    "  0x26D3,0x36F2,0x0691,0x16B0,0x6657,0x7676,0x4615,0x5634,\n",
    "  0xD94C,0xC96D,0xF90E,0xE92F,0x99C8,0x89E9,0xB98A,0xA9AB,\n",
    "  0x5844,0x4865,0x7806,0x6827,0x18C0,0x08E1,0x3882,0x28A3,\n",
    "  0xCB7D,0xDB5C,0xEB3F,0xFB1E,0x8BF9,0x9BD8,0xABBB,0xBB9A,\n",
    "  0x4A75,0x5A54,0x6A37,0x7A16,0x0AF1,0x1AD0,0x2AB3,0x3A92,\n",
    "  0xFD2E,0xED0F,0xDD6C,0xCD4D,0xBDAA,0xAD8B,0x9DE8,0x8DC9,\n",
    "  0x7C26,0x6C07,0x5C64,0x4C45,0x3CA2,0x2C83,0x1CE0,0x0CC1,\n",
    "  0xEF1F,0xFF3E,0xCF5D,0xDF7C,0xAF9B,0xBFBA,0x8FD9,0x9FF8,\n",
    "  0x6E17,0x7E36,0x4E55,0x5E74,0x2E93,0x3EB2,0x0ED1,0x1EF0,\n",
    "]\n",
    "\n",
    "def crc16(packet):\n",
    "    rem = 0\n",
    "    for p in packet:\n",
    "        #print(\"%04X %02X %04X\" % (rem,p,crcTable[(rem>>8) ^ p]))\n",
    "        rem = (rem << 8) ^ crcTable[(rem>>8) ^ p]\n",
    "        rem = rem & 0xFFFF\n",
    "    return rem\n",
    "\n",
    "class SensorInterface(object):\n",
    "    def __init__(self):\n",
    "        self.sensor = None\n",
    "        self.buffer = []\n",
    "\n",
    "    def connect(self, id=None):\n",
    "        \"\"\"Connects to a sensor\n",
    "\n",
    "        Use the optional id argument to specify a non-default sensor\"\"\"\n",
    "        if id == None:\n",
    "            id = 0;\n",
    "        try:\n",
    "            self.sensor = FT.open(id)\n",
    "        except FT.DeviceError:\n",
    "            print(\"Error: Device not found\")\n",
    "            raise\n",
    "\n",
    "        self.sensor.setUSBParameters(8192)\n",
    "        self.sensor.setLatencyTimer(2)\n",
    "    def close(self):\n",
    "        \"Closes the connection to the sensor\"\n",
    "        if self.sensor:\n",
    "            self.sensor.close()\n",
    "        self.sensor = None\n",
    "\n",
    "    def getAllImages(self):\n",
    "        \"Returns a list of all images found in the FTDI buffer\"\n",
    "        self.readBuffer()\n",
    "        images = []\n",
    "        while True:\n",
    "            p = self.getPacket()\n",
    "            if not p:\n",
    "                return images\n",
    "            if p[0] == 2: # image packet\n",
    "                rows = p[14]\n",
    "                cols = p[15]\n",
    "                imgBuf = p[16:]\n",
    "                pixels = []\n",
    "                for i in range(rows):\n",
    "                    pixels.append(imgBuf[(i*cols):((i+1)*cols)])\n",
    "                img = { 'timeStamp' : p[5] + (p[6] << 16),\n",
    "                        'sequence' : p[10],\n",
    "                        'rows' : rows,\n",
    "                        'cols' : cols,\n",
    "                        'image' : pixels }\n",
    "                images.append(img)\n",
    "\n",
    "    def getPacket(self):\n",
    "        while True:\n",
    "            if len(self.buffer) == 0:\n",
    "                return None\n",
    "\n",
    "            # find BOM: 7 FFs followed by A5\n",
    "            ffCount = 0\n",
    "            while len(self.buffer) > 0:\n",
    "                b = self.buffer.pop(0)\n",
    "                if b == 0xFF:\n",
    "                    ffCount += 1\n",
    "                    if ffCount == 15:\n",
    "                        print(\"Warning: Sensor buffer overflow\")\n",
    "                elif ffCount >= 7 and b == 0xA5:\n",
    "                    break\n",
    "                else:\n",
    "                    ffCount == 0\n",
    "\n",
    "            # Read length word\n",
    "            if len(self.buffer) < 2:\n",
    "                print(\"Discarded packet because buffer is empty\")\n",
    "                continue\n",
    "\n",
    "            length = self.buffer[1] + (self.buffer[0] << 8)\n",
    "            if length > len(self.buffer):\n",
    "                # Allow this packet to be processed next time\n",
    "                self.buffer.insert(0, 0xA5)\n",
    "                for i in range(7):\n",
    "                    self.buffer.insert(0, 0xFF)\n",
    "                return None\n",
    "\n",
    "            if length < 32:\n",
    "                print(\"Discarded packet shorter than minimum (%d bytes vs 32 bytes)\" % (length))\n",
    "                continue # packet is shorter than minimum size\n",
    "\n",
    "            packet = self.buffer[0:length]\n",
    "\n",
    "            calcCrc = crc16(packet[4:])\n",
    "            txCrc = packet[3] + (packet[2] << 8)\n",
    "            if calcCrc != txCrc:\n",
    "                print(\"Warning: Transmitted CRC %04X != %04X Calculated\" % (txCrc, calcCrc))\n",
    "                continue\n",
    "            packet = self.removeEscapedFFs(packet)\n",
    "\n",
    "            # convert packet to words from bytes\n",
    "            lo = packet[5::2]\n",
    "            hi = packet[4::2]\n",
    "            packet = [lo[i] + (hi[i] << 8) for i in range(len(lo))]\n",
    "\n",
    "            # accept the packet, remove it from buffer\n",
    "            self.buffer[0:length] = []\n",
    "            # print(\"Accepting packet, %d bytes long\" % length)\n",
    "            return packet\n",
    "\n",
    "    def removeEscapedFFs(self, packet):\n",
    "        # packets have 00 bytes inserted after each 4 FFs because\n",
    "        # strings of FFs are used by hardware for signaling purposes\n",
    "        i = 4\n",
    "        while i < len(packet)-4:\n",
    "            if packet[i] != 0xFF or packet[i+1] != 0xFF or packet[i+2] != 0xFF or packet[i+3] != 0xFF:\n",
    "                i += 1\n",
    "                continue\n",
    "            print(packet[i+4])\n",
    "            if packet[i+4] != 0:\n",
    "                print(\"Warning, saw incorrect escape in FF sequence: %d\" % packet[i+4])\n",
    "            del packet[i+4]\n",
    "            i += 1\n",
    "        return packet\n",
    "\n",
    "    def readBuffer(self):\n",
    "        if not self.sensor:\n",
    "            return\n",
    "        # flush out buffer so we don't get old images\n",
    "        rx = 65536\n",
    "        while rx == 65536:\n",
    "            (rx, tx, stat) = self.sensor.getStatus()\n",
    "            buf = self.sensor.read(rx)\n",
    "            # print(\"Read %d bytes\" % len(buf))\n",
    "            if rx == 65536:\n",
    "                print(\"Discarding buffer...\")\n",
    "\n",
    "        if sys.version_info[0] < 3:\n",
    "            buf = [ord(x) for x in buf]\n",
    "        self.buffer.extend(buf)"
   ]
  },
  {
   "cell_type": "code",
   "execution_count": 7,
   "metadata": {
    "collapsed": false
   },
   "outputs": [
    {
     "name": "stdout",
     "output_type": "stream",
     "text": [
      "Error: Device not found\n",
      "Error connecting to sensor\n"
     ]
    },
    {
     "ename": "DeviceError",
     "evalue": "DEVICE_NOT_OPENED",
     "output_type": "error",
     "traceback": [
      "\u001b[1;31m---------------------------------------------------------------------------\u001b[0m",
      "\u001b[1;31mDeviceError\u001b[0m                               Traceback (most recent call last)",
      "\u001b[1;32m<ipython-input-7-40805bf6665b>\u001b[0m in \u001b[0;36m<module>\u001b[1;34m()\u001b[0m\n\u001b[0;32m      1\u001b[0m \u001b[0msensor\u001b[0m \u001b[1;33m=\u001b[0m \u001b[0mSensorInterface\u001b[0m\u001b[1;33m(\u001b[0m\u001b[1;33m)\u001b[0m\u001b[1;33m\u001b[0m\u001b[0m\n\u001b[0;32m      2\u001b[0m \u001b[1;32mtry\u001b[0m\u001b[1;33m:\u001b[0m\u001b[1;33m\u001b[0m\u001b[0m\n\u001b[1;32m----> 3\u001b[1;33m     \u001b[0msensor\u001b[0m\u001b[1;33m.\u001b[0m\u001b[0mconnect\u001b[0m\u001b[1;33m(\u001b[0m\u001b[1;33m)\u001b[0m\u001b[1;33m\u001b[0m\u001b[0m\n\u001b[0m\u001b[0;32m      4\u001b[0m \u001b[1;32mexcept\u001b[0m\u001b[1;33m:\u001b[0m\u001b[1;33m\u001b[0m\u001b[0m\n\u001b[0;32m      5\u001b[0m     \u001b[0mprint\u001b[0m\u001b[1;33m(\u001b[0m\u001b[1;34m\"Error connecting to sensor\"\u001b[0m\u001b[1;33m)\u001b[0m\u001b[1;33m\u001b[0m\u001b[0m\n",
      "\u001b[1;32m<ipython-input-6-348ef54b76ec>\u001b[0m in \u001b[0;36mconnect\u001b[1;34m(self, id)\u001b[0m\n\u001b[0;32m     57\u001b[0m             \u001b[0mid\u001b[0m \u001b[1;33m=\u001b[0m \u001b[1;36m0\u001b[0m\u001b[1;33m;\u001b[0m\u001b[1;33m\u001b[0m\u001b[0m\n\u001b[0;32m     58\u001b[0m         \u001b[1;32mtry\u001b[0m\u001b[1;33m:\u001b[0m\u001b[1;33m\u001b[0m\u001b[0m\n\u001b[1;32m---> 59\u001b[1;33m             \u001b[0mself\u001b[0m\u001b[1;33m.\u001b[0m\u001b[0msensor\u001b[0m \u001b[1;33m=\u001b[0m \u001b[0mFT\u001b[0m\u001b[1;33m.\u001b[0m\u001b[0mopen\u001b[0m\u001b[1;33m(\u001b[0m\u001b[0mid\u001b[0m\u001b[1;33m)\u001b[0m\u001b[1;33m\u001b[0m\u001b[0m\n\u001b[0m\u001b[0;32m     60\u001b[0m         \u001b[1;32mexcept\u001b[0m \u001b[0mFT\u001b[0m\u001b[1;33m.\u001b[0m\u001b[0mDeviceError\u001b[0m\u001b[1;33m:\u001b[0m\u001b[1;33m\u001b[0m\u001b[0m\n\u001b[0;32m     61\u001b[0m             \u001b[0mprint\u001b[0m\u001b[1;33m(\u001b[0m\u001b[1;34m\"Error: Device not found\"\u001b[0m\u001b[1;33m)\u001b[0m\u001b[1;33m\u001b[0m\u001b[0m\n",
      "\u001b[1;32m/home/riku/Programming/Hacktech/ftd2xx/ftd2xx.py\u001b[0m in \u001b[0;36mopen\u001b[1;34m(dev)\u001b[0m\n\u001b[0;32m     93\u001b[0m     it\"\"\"\n\u001b[0;32m     94\u001b[0m     \u001b[0mh\u001b[0m \u001b[1;33m=\u001b[0m \u001b[0m_ft\u001b[0m\u001b[1;33m.\u001b[0m\u001b[0mFT_HANDLE\u001b[0m\u001b[1;33m(\u001b[0m\u001b[1;33m)\u001b[0m\u001b[1;33m\u001b[0m\u001b[0m\n\u001b[1;32m---> 95\u001b[1;33m     \u001b[0mcall_ft\u001b[0m\u001b[1;33m(\u001b[0m\u001b[0m_ft\u001b[0m\u001b[1;33m.\u001b[0m\u001b[0mFT_Open\u001b[0m\u001b[1;33m,\u001b[0m \u001b[0mdev\u001b[0m\u001b[1;33m,\u001b[0m \u001b[0mc\u001b[0m\u001b[1;33m.\u001b[0m\u001b[0mbyref\u001b[0m\u001b[1;33m(\u001b[0m\u001b[0mh\u001b[0m\u001b[1;33m)\u001b[0m\u001b[1;33m)\u001b[0m\u001b[1;33m\u001b[0m\u001b[0m\n\u001b[0m\u001b[0;32m     96\u001b[0m     \u001b[1;32mreturn\u001b[0m \u001b[0mFTD2XX\u001b[0m\u001b[1;33m(\u001b[0m\u001b[0mh\u001b[0m\u001b[1;33m)\u001b[0m\u001b[1;33m\u001b[0m\u001b[0m\n\u001b[0;32m     97\u001b[0m \u001b[1;33m\u001b[0m\u001b[0m\n",
      "\u001b[1;32m/home/riku/Programming/Hacktech/ftd2xx/ftd2xx.py\u001b[0m in \u001b[0;36mcall_ft\u001b[1;34m(function, *args)\u001b[0m\n\u001b[0;32m     39\u001b[0m     \u001b[0mstatus\u001b[0m \u001b[1;33m=\u001b[0m \u001b[0mfunction\u001b[0m\u001b[1;33m(\u001b[0m\u001b[1;33m*\u001b[0m\u001b[0margs\u001b[0m\u001b[1;33m)\u001b[0m\u001b[1;33m\u001b[0m\u001b[0m\n\u001b[0;32m     40\u001b[0m     \u001b[1;32mif\u001b[0m \u001b[0mstatus\u001b[0m \u001b[1;33m!=\u001b[0m \u001b[0m_ft\u001b[0m\u001b[1;33m.\u001b[0m\u001b[0mFT_OK\u001b[0m\u001b[1;33m:\u001b[0m\u001b[1;33m\u001b[0m\u001b[0m\n\u001b[1;32m---> 41\u001b[1;33m         \u001b[1;32mraise\u001b[0m \u001b[0mDeviceError\u001b[0m\u001b[1;33m(\u001b[0m\u001b[0mstatus\u001b[0m\u001b[1;33m)\u001b[0m\u001b[1;33m\u001b[0m\u001b[0m\n\u001b[0m\u001b[0;32m     42\u001b[0m \u001b[1;33m\u001b[0m\u001b[0m\n\u001b[0;32m     43\u001b[0m \u001b[1;32mdef\u001b[0m \u001b[0mlistDevices\u001b[0m\u001b[1;33m(\u001b[0m\u001b[0mflags\u001b[0m\u001b[1;33m=\u001b[0m\u001b[1;36m0\u001b[0m\u001b[1;33m)\u001b[0m\u001b[1;33m:\u001b[0m\u001b[1;33m\u001b[0m\u001b[0m\n",
      "\u001b[1;31mDeviceError\u001b[0m: DEVICE_NOT_OPENED"
     ]
    }
   ],
   "source": [
    "sensor = SensorInterface()\n",
    "try:\n",
    "    sensor.connect()\n",
    "except:\n",
    "    print(\"Error connecting to sensor\")\n",
    "    raise\n",
    "try:\n",
    "    while True:\n",
    "        images = sensor.getAllImages()\n",
    "        if len(images)>0:\n",
    "            img = images[-1]\n",
    "            image = img['image']\n",
    "            rows = img['rows']\n",
    "            cols = img['cols']\n",
    "            for y in range(rows):\n",
    "                s = ''\n",
    "                for x in range(cols):\n",
    "                    if image[y][x]>1:\n",
    "                        s+='1'\n",
    "                    else:\n",
    "                        s+='0'\n",
    "                print(s)\n",
    "except KeyboardInterrupt:\n",
    "    pass"
   ]
  },
  {
   "cell_type": "code",
   "execution_count": null,
   "metadata": {
    "collapsed": true
   },
   "outputs": [],
   "source": []
  }
 ],
 "metadata": {
  "kernelspec": {
   "display_name": "Python 3",
   "language": "python",
   "name": "python3"
  },
  "language_info": {
   "codemirror_mode": {
    "name": "ipython",
    "version": 3
   },
   "file_extension": ".py",
   "mimetype": "text/x-python",
   "name": "python",
   "nbconvert_exporter": "python",
   "pygments_lexer": "ipython3",
   "version": "3.4.4"
  }
 },
 "nbformat": 4,
 "nbformat_minor": 0
}
